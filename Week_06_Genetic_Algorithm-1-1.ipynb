{
  "cells": [
    {
      "cell_type": "markdown",
      "metadata": {
        "id": "O5x7T2XxRqdv"
      },
      "source": [
        "### Problem: Maximize f(x) = x^3-11x^2+150 when x = 0 to 255"
      ]
    },
    {
      "cell_type": "markdown",
      "metadata": {
        "id": "ywY6mjLkRqd2"
      },
      "source": [
        "Representation or ecoding solution:\n",
        "x can be represented using 8 bits binary number."
      ]
    },
    {
      "cell_type": "markdown",
      "metadata": {
        "id": "h_AzBq1MRqd3"
      },
      "source": [
        "# Step 1: Initialize Population"
      ]
    },
    {
      "cell_type": "code",
      "execution_count": 7,
      "metadata": {
        "_cell_guid": "b1076dfc-b9ad-4769-8c92-a6c4dae69d19",
        "_uuid": "8f2839f25d086af736a60e9eeb907d3b93b6e0e5",
        "id": "1bOfcsluRqd4"
      },
      "outputs": [],
      "source": [
        "import random\n",
        "def initPopulation(b, n =10): # n is the number of solutions, b is the length\n",
        "    p = [] # to store solution set/ initial population\n",
        "    for i in range(n):\n",
        "        s = [] # to store a solution as a list\n",
        "        for j in range(b):\n",
        "            s.append(random.choice([0,1]))    \n",
        "        p.append(s)\n",
        "    return p"
      ]
    },
    {
      "cell_type": "code",
      "execution_count": 8,
      "metadata": {
        "colab": {
          "base_uri": "https://localhost:8080/"
        },
        "id": "xqpElpd6Rqd7",
        "outputId": "2f76de58-4660-47b3-893a-c34307c06f08"
      },
      "outputs": [
        {
          "output_type": "execute_result",
          "data": {
            "text/plain": [
              "[[0, 1, 1, 1, 1, 0, 1, 1],\n",
              " [1, 1, 0, 1, 1, 0, 1, 0],\n",
              " [0, 1, 0, 0, 0, 0, 1, 1],\n",
              " [1, 0, 1, 1, 0, 1, 0, 0],\n",
              " [1, 1, 1, 0, 0, 1, 1, 0],\n",
              " [1, 1, 1, 1, 0, 1, 1, 1],\n",
              " [1, 0, 1, 1, 1, 1, 0, 0],\n",
              " [0, 0, 0, 1, 0, 1, 1, 0],\n",
              " [1, 1, 0, 0, 0, 0, 0, 0],\n",
              " [1, 0, 1, 0, 1, 1, 0, 0],\n",
              " [1, 1, 0, 0, 0, 1, 0, 0],\n",
              " [0, 1, 1, 0, 0, 0, 1, 1]]"
            ]
          },
          "metadata": {},
          "execution_count": 8
        }
      ],
      "source": [
        "population = initPopulation(8,12)\n",
        "population"
      ]
    },
    {
      "cell_type": "markdown",
      "metadata": {
        "id": "295Y_a8JRqd8"
      },
      "source": [
        "# Step 2: Reproduction or Parent Selection"
      ]
    },
    {
      "cell_type": "markdown",
      "metadata": {
        "id": "Q-2xm1Y0Rqd9"
      },
      "source": [
        "Fitness Calculation"
      ]
    },
    {
      "cell_type": "code",
      "execution_count": 9,
      "metadata": {
        "id": "GeSnMD0hRqd_"
      },
      "outputs": [],
      "source": [
        "def getFitness(p): # p is the whole population\n",
        "    f = [] # to store fitness values\n",
        "    for sol in p:\n",
        "        d = 0 # decimel value\n",
        "        b = len(sol)\n",
        "        for i in range(b-1,-1,-1): # binary to decimel\n",
        "            d = d + sol[i]*2**(b-1-i)\n",
        "        #print(d)\n",
        "        v = d**3 - 11*d**2 + 150\n",
        "        if v< 0: f.append(0)\n",
        "        else: f.append(v) # fitness function\n",
        "    return f"
      ]
    },
    {
      "cell_type": "code",
      "execution_count": 10,
      "metadata": {
        "colab": {
          "base_uri": "https://localhost:8080/"
        },
        "id": "bDE-fRdFRqeB",
        "outputId": "89c44126-23ec-46b5-9e26-33d2750b2dd5"
      },
      "outputs": [
        {
          "output_type": "execute_result",
          "data": {
            "text/plain": [
              "[1694598,\n",
              " 9837618,\n",
              " 251534,\n",
              " 5475750,\n",
              " 11585250,\n",
              " 14398274,\n",
              " 6256038,\n",
              " 5474,\n",
              " 6672534,\n",
              " 4763174,\n",
              " 7107110,\n",
              " 862638]"
            ]
          },
          "metadata": {},
          "execution_count": 10
        }
      ],
      "source": [
        "getFitness(population)"
      ]
    },
    {
      "cell_type": "markdown",
      "metadata": {
        "id": "MuyfwGTDRqeC"
      },
      "source": [
        "calculate probability and select parents"
      ]
    },
    {
      "cell_type": "code",
      "execution_count": 11,
      "metadata": {
        "id": "lK4uQOsrRqeC"
      },
      "outputs": [],
      "source": [
        "def select_parent(n, pop): # probability, parent selection\n",
        "    # probability\n",
        "    fitness = getFitness(pop)\n",
        "    total_fitness = sum(fitness)\n",
        "    prob = [round(f/total_fitness,3) for f in fitness]\n",
        "    # parent selection\n",
        "    parents = []\n",
        "    for i in range(n):\n",
        "        # roullete wheel, generate a random number\n",
        "        #r = random.choice(range(1,1001,1))/1000\n",
        "        r = random.random()\n",
        "        #print(r)\n",
        "        lim = 0\n",
        "        # check bin number of r\n",
        "        for j in range(len(prob)):\n",
        "            lim = lim + prob[j]\n",
        "            if r <= lim :#checking the bin\n",
        "                print(j)\n",
        "                parents.append(pop[j])\n",
        "                break\n",
        "    return parents"
      ]
    },
    {
      "cell_type": "code",
      "execution_count": 12,
      "metadata": {
        "colab": {
          "base_uri": "https://localhost:8080/"
        },
        "id": "3-lCH3ZoRqeD",
        "outputId": "27be9017-154c-4e9e-d782-f3a39625ae7b"
      },
      "outputs": [
        {
          "output_type": "stream",
          "name": "stdout",
          "text": [
            "6\n",
            "5\n",
            "10\n",
            "4\n",
            "3\n",
            "5\n"
          ]
        }
      ],
      "source": [
        "parents = select_parent(6, population)"
      ]
    },
    {
      "cell_type": "markdown",
      "metadata": {
        "id": "HTf2wgA_RqeE"
      },
      "source": [
        "# Step 3: Crossover"
      ]
    },
    {
      "cell_type": "code",
      "execution_count": 13,
      "metadata": {
        "id": "PwgF2uv6RqeF"
      },
      "outputs": [],
      "source": [
        "# define a method crossover (input is parents set)\n",
        "def cross(p):\n",
        "  num_cross = int(len(p)/2)\n",
        "  print(num_cross)\n",
        "  offsprings = []\n",
        "\n",
        "  for i in range(num_cross):\n",
        "   cp = random.choice(range(3,6))\n",
        "   print(cp)\n",
        "   # perform crossover\n",
        "   x,y = p[0],p[1]\n",
        "   off1 = x[:cp] + y[cp:]\n",
        "   offsprings.append(off1)\n",
        "\n",
        "  return offsprings"
      ]
    },
    {
      "cell_type": "code",
      "source": [
        "def cross(p):\n",
        "    num_cross = len(p)/2\n",
        "    print(num_cross)\n",
        "    offsprings = []\n",
        "\n",
        "    for i in range(int(num_cross)):\n",
        "      cp = random.choice(range(1,8))\n",
        "      print(cp)\n",
        "      offsprings.append(parents[2*i][0:cp]+parents[2*i+1][cp:])\n",
        "      offsprings.append(parents[2*i+1][0:cp]+parents[2*i][cp:])\n",
        "      return offsprings\n",
        "      offsprings = cross(parents)\n",
        "      print(offsprings)"
      ],
      "metadata": {
        "id": "TAM9jeS_AVEu"
      },
      "execution_count": 22,
      "outputs": []
    },
    {
      "cell_type": "code",
      "source": [
        "off = cross(parents)\n",
        "off"
      ],
      "metadata": {
        "colab": {
          "base_uri": "https://localhost:8080/"
        },
        "id": "gNH0V9eRRGHy",
        "outputId": "6138bc3a-8dba-4f96-b2b2-b121bbf62d92"
      },
      "execution_count": 23,
      "outputs": [
        {
          "output_type": "stream",
          "name": "stdout",
          "text": [
            "5.0\n",
            "3\n"
          ]
        },
        {
          "output_type": "execute_result",
          "data": {
            "text/plain": [
              "[[1, 1, 1, 0, 1, 1, 0, 1], [1, 1, 1, 0, 0, 1, 0, 0]]"
            ]
          },
          "metadata": {},
          "execution_count": 23
        }
      ]
    },
    {
      "cell_type": "markdown",
      "metadata": {
        "id": "Zx8t0GLTRqeG"
      },
      "source": [
        "# Step 4: Select Survivor\n",
        "The selected survivors (solutions) will be added to population"
      ]
    },
    {
      "cell_type": "markdown",
      "metadata": {
        "id": "aTh52_9WRqeG"
      },
      "source": [
        "Select top 2 offspring based on fitness value and add them to population."
      ]
    },
    {
      "cell_type": "markdown",
      "metadata": {
        "id": "yUUSEWOXRqeH"
      },
      "source": [
        "Repeat Step 2 to 4 for further iterations"
      ]
    },
    {
      "cell_type": "code",
      "source": [
        "def topOffspring(offspring):\n",
        "  import numpy as np\n",
        "  print(getFitness(offspring))\n",
        "  v = np.array(getFitness(offspring))\n",
        "  x = v.argsort()[-1:-3:-1]\n",
        "  top1 = []\n",
        "  topOffsp = []\n",
        "  print (x[0])\n"
      ],
      "metadata": {
        "id": "7cHI8h0oCtDQ"
      },
      "execution_count": 29,
      "outputs": []
    },
    {
      "cell_type": "code",
      "source": [
        "topOffspring(off)"
      ],
      "metadata": {
        "colab": {
          "base_uri": "https://localhost:8080/"
        },
        "id": "EWq8TAA8DVzE",
        "outputId": "08588382-3ce0-4888-cec6-eb7feefdbf24"
      },
      "execution_count": 30,
      "outputs": [
        {
          "output_type": "stream",
          "name": "stdout",
          "text": [
            "[12694344, 11280678]\n",
            "0\n"
          ]
        }
      ]
    },
    {
      "cell_type": "markdown",
      "source": [
        "# **Complete iteration**"
      ],
      "metadata": {
        "id": "G4tLqF-TRyS5"
      }
    },
    {
      "cell_type": "code",
      "source": [
        "populations = initPopulation(8,30)\n",
        "parents = select_parent(10, populations)\n",
        "offsprings = cross(parents)\n",
        "survivors = select_survivor(offsprings)\n",
        "updatedPopulation = population + survivors\n",
        "updatedPopulation"
      ],
      "metadata": {
        "colab": {
          "base_uri": "https://localhost:8080/"
        },
        "id": "fIOX062HPMSc",
        "outputId": "75f4ec42-dded-498e-842e-1213d72f5108"
      },
      "execution_count": 18,
      "outputs": [
        {
          "output_type": "stream",
          "name": "stdout",
          "text": [
            "8\n",
            "17\n",
            "17\n",
            "26\n",
            "15\n",
            "24\n",
            "19\n",
            "4\n",
            "9\n",
            "1\n",
            "5.0\n",
            "7\n"
          ]
        },
        {
          "output_type": "execute_result",
          "data": {
            "text/plain": [
              "[[0, 1, 1, 1, 1, 0, 1, 1],\n",
              " [1, 1, 0, 1, 1, 0, 1, 0],\n",
              " [0, 1, 0, 0, 0, 0, 1, 1],\n",
              " [1, 0, 1, 1, 0, 1, 0, 0],\n",
              " [1, 1, 1, 0, 0, 1, 1, 0],\n",
              " [1, 1, 1, 1, 0, 1, 1, 1],\n",
              " [1, 0, 1, 1, 1, 1, 0, 0],\n",
              " [0, 0, 0, 1, 0, 1, 1, 0],\n",
              " [1, 1, 0, 0, 0, 0, 0, 0],\n",
              " [1, 0, 1, 0, 1, 1, 0, 0],\n",
              " [1, 1, 0, 0, 0, 1, 0, 0],\n",
              " [0, 1, 1, 0, 0, 0, 1, 1],\n",
              " [1, 1, 1, 0, 1, 1, 0, 0]]"
            ]
          },
          "metadata": {},
          "execution_count": 18
        }
      ]
    },
    {
      "cell_type": "code",
      "source": [
        "import numpy as np\n",
        "v =np.array( [2,5,8,3,7,4])\n",
        "print(v.argsort())\n",
        "ind = v.argsort()[-1:-3:-1]\n",
        "list(ind)"
      ],
      "metadata": {
        "colab": {
          "base_uri": "https://localhost:8080/"
        },
        "id": "KljS3ns1tOSW",
        "outputId": "f6d3fead-07bf-4e3f-8212-3f09b3e9da83"
      },
      "execution_count": 19,
      "outputs": [
        {
          "output_type": "stream",
          "name": "stdout",
          "text": [
            "[0 3 5 1 4 2]\n"
          ]
        },
        {
          "output_type": "execute_result",
          "data": {
            "text/plain": [
              "[2, 4]"
            ]
          },
          "metadata": {},
          "execution_count": 19
        }
      ]
    }
  ],
  "metadata": {
    "kernelspec": {
      "display_name": "Python 3",
      "language": "python",
      "name": "python3"
    },
    "language_info": {
      "codemirror_mode": {
        "name": "ipython",
        "version": 3
      },
      "file_extension": ".py",
      "mimetype": "text/x-python",
      "name": "python",
      "nbconvert_exporter": "python",
      "pygments_lexer": "ipython3",
      "version": "3.8.5"
    },
    "colab": {
      "name": "Week 06 Genetic Algorithm.ipynb",
      "provenance": [],
      "collapsed_sections": []
    }
  },
  "nbformat": 4,
  "nbformat_minor": 0
}