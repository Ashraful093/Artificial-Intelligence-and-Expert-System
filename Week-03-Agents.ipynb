{
 "cells": [
  {
   "cell_type": "markdown",
   "metadata": {
    "id": "reej2tDWSyeX"
   },
   "source": [
    "Vaccum Cleaning Agent with locations A and B"
   ]
  },
  {
   "cell_type": "markdown",
   "metadata": {
    "id": "OmRycx4GSyeY"
   },
   "source": [
    "![vc.png](attachment:vc.png)"
   ]
  },
  {
   "cell_type": "markdown",
   "metadata": {
    "id": "JB_wyml9WUg4"
   },
   "source": [
    "# Some important things:\n",
    "\n",
    "1. Agent Description: The aim of the agent .....\n",
    "2. List the sensors: Location, Status\n",
    "3. Sensors' values:\n",
    ">Location -> {A, B}, Status -> {Dirty, Clean}\n",
    "4. List the actions: Suck, Right, Left\n",
    "5. Agent function: **perception --> action**\n",
    "> [A, Clean] --> Right <br>\n",
    "> [A, Dirty] --> Suck<br>\n",
    "> [B, Clean] --> Left<br>\n",
    "> [B, Dirty] --> Suck<br>\n",
    "\n"
   ]
  },
  {
   "cell_type": "markdown",
   "metadata": {},
   "source": [
    "# Version 2"
   ]
  },
  {
   "cell_type": "markdown",
   "metadata": {
    "id": "jKEeqHbzSyeQ"
   },
   "source": [
    "# Table driven agent"
   ]
  },
  {
   "cell_type": "code",
   "execution_count": 1,
   "metadata": {
    "colab": {
     "base_uri": "https://localhost:8080/"
    },
    "executionInfo": {
     "elapsed": 109674,
     "status": "ok",
     "timestamp": 1644314363771,
     "user": {
      "displayName": "Ashraf Uddin",
      "photoUrl": "https://lh3.googleusercontent.com/a-/AOh14GjBdAa8YVVeKPAj-6WRIHqgGMOom16hPYcrG5tkEw=s64",
      "userId": "01747740824393644374"
     },
     "user_tz": -360
    },
    "id": "oYvL-4cuSyeZ",
    "outputId": "b4ec7ba8-4831-40cb-d26d-3db79fe92400"
   },
   "outputs": [
    {
     "name": "stdout",
     "output_type": "stream",
     "text": [
      "Perception Received: ('B', 'Clean')\n",
      "Action Performed: Left\n",
      "Get Perception (yes/no): yes\n",
      "Perception Received: ('A', 'Clean')\n",
      "Action Performed: Right\n",
      "Get Perception (yes/no): yes\n",
      "Perception Received: ('B', 'Clean')\n",
      "Action Performed: Left\n",
      "Get Perception (yes/no): yes\n",
      "Perception Received: ('A', 'Clean')\n",
      "Action Performed: Right\n",
      "Get Perception (yes/no): yes\n",
      "Perception Received: ('B', 'Dirty')\n",
      "Action Performed: Suck\n",
      "Get Perception (yes/no): yes\n",
      "Perception Received: ('B', 'Clean')\n",
      "Action Performed: Left\n",
      "Get Perception (yes/no): no\n"
     ]
    }
   ],
   "source": [
    "table={('A','Clean'):'Right',\n",
    "       ('A','Dirty'):'Suck',\n",
    "       ('B','Clean'):'Left',\n",
    "       ('B','Dirty'):'Suck'}\n",
    "\n",
    "percepts=[]  # to store percept sequence  \n",
    "def table_driven_agent(percept):\n",
    "    print('Perception Received: '+ str(percept))\n",
    "    percepts.append(percept) # updating percept history\n",
    "    action = lookup(percept,table) # searching for action\n",
    "    return action\n",
    "\n",
    "def lookup(percept,table):\n",
    "    #for key in table:\n",
    "    #    if key == percept:\n",
    "    #        return table[key]\n",
    "    return table[percept]\n",
    "\n",
    "# lets simulate the agent\n",
    "import random\n",
    "Location = random.choice(['A','B'])\n",
    "Condition = random.choice(['Clean','Dirty'])\n",
    "\n",
    "while True: # to perceieve environment repeatedly\n",
    "    action = table_driven_agent((Location, Condition))\n",
    "    print('Action Performed: '+ action)\n",
    "    cmd = input('Get Perception (yes/no): ')\n",
    "    if(cmd == 'no' or cmd != 'yes'): break\n",
    "    if action == 'Right':\n",
    "        Location = 'B'\n",
    "        Condition = random.choice(['Clean','Dirty'])\n",
    "    elif action == 'Left':\n",
    "        Location = 'A'\n",
    "        Condition = random.choice(['Clean','Dirty'])\n",
    "    else:\n",
    "        Condition = 'Clean'   "
   ]
  },
  {
   "cell_type": "markdown",
   "metadata": {
    "id": "yfOFRdsmSyec"
   },
   "source": [
    "# Simple reflex agent"
   ]
  },
  {
   "cell_type": "code",
   "execution_count": 2,
   "metadata": {
    "colab": {
     "base_uri": "https://localhost:8080/"
    },
    "executionInfo": {
     "elapsed": 17494,
     "status": "ok",
     "timestamp": 1644314703812,
     "user": {
      "displayName": "Ashraf Uddin",
      "photoUrl": "https://lh3.googleusercontent.com/a-/AOh14GjBdAa8YVVeKPAj-6WRIHqgGMOom16hPYcrG5tkEw=s64",
      "userId": "01747740824393644374"
     },
     "user_tz": -360
    },
    "id": "GfEzFJTVSyed",
    "outputId": "453f0e57-e848-4e3d-8dd3-5c2ce0a8a268"
   },
   "outputs": [
    {
     "name": "stdout",
     "output_type": "stream",
     "text": [
      "Perception Received: ('A', 'Dirty')\n",
      "Action Performed: Suck\n",
      "Get Perception (yes/no): yes\n",
      "Perception Received: ('A', 'Clean')\n",
      "Action Performed: Right\n",
      "Get Perception (yes/no): yes\n",
      "Perception Received: ('B', 'Dirty')\n",
      "Action Performed: Suck\n",
      "Get Perception (yes/no): s\n"
     ]
    }
   ],
   "source": [
    "def simple_reflex_agent(percept):\n",
    "    print('Perception Received: '+ str(percept))\n",
    "    location = percept[0]\n",
    "    status = percept[1]\n",
    "    if status =='Dirty':\n",
    "        action = 'Suck'\n",
    "    elif location == 'A':\n",
    "        action = 'Right'\n",
    "    elif location =='B':\n",
    "        action = 'Left'\n",
    "    return action\n",
    "\n",
    "import random\n",
    "Location = random.choice(['A','B'])\n",
    "Condition = random.choice(['Clean','Dirty'])\n",
    "\n",
    "while True:\n",
    "    action= simple_reflex_agent((Location,Condition))\n",
    "    print('Action Performed: '+ action)\n",
    "    cmd = input('Get Perception (yes/no): ')\n",
    "    if(cmd == 'no' or cmd != 'yes'): break\n",
    "    if action == 'Right':\n",
    "        Location = 'B'\n",
    "        Condition = random.choice(['Clean','Dirty'])\n",
    "    elif action== 'Left':\n",
    "        Location = 'A'\n",
    "        Condition = random.choice(['Clean','Dirty'])\n",
    "    else:\n",
    "        Condition = 'Clean'   "
   ]
  },
  {
   "cell_type": "markdown",
   "metadata": {
    "id": "wA7yF32tSyee"
   },
   "source": [
    "# Model based agent"
   ]
  },
  {
   "cell_type": "code",
   "execution_count": 3,
   "metadata": {
    "colab": {
     "base_uri": "https://localhost:8080/"
    },
    "executionInfo": {
     "elapsed": 99708,
     "status": "ok",
     "timestamp": 1644314846515,
     "user": {
      "displayName": "Ashraf Uddin",
      "photoUrl": "https://lh3.googleusercontent.com/a-/AOh14GjBdAa8YVVeKPAj-6WRIHqgGMOom16hPYcrG5tkEw=s64",
      "userId": "01747740824393644374"
     },
     "user_tz": -360
    },
    "id": "djwVDNKgSyef",
    "outputId": "fb3f6832-80c7-4830-e453-295dbfff50b6"
   },
   "outputs": [
    {
     "name": "stdout",
     "output_type": "stream",
     "text": [
      "*****\n",
      "Perception: ('B', 'Clean')\n",
      "Action Performed: Left\n",
      "Model: {'A': 'Unknown', 'B': 'Clean'}\n",
      "State: Bad\n",
      "*****\n",
      "Perception: ('A', 'Clean')\n",
      "Action Performed: Right\n",
      "Model: {'A': 'Clean', 'B': 'Clean'}\n",
      "State: Good\n",
      "*****\n",
      "Stopped. Do restart? (yes/no): yes\n",
      "*****\n",
      "Perception: ('A', 'Clean')\n",
      "Action Performed: Right\n",
      "Model: {'A': 'Clean', 'B': 'Unknown'}\n",
      "State: Bad\n",
      "*****\n",
      "Perception: ('B', 'Clean')\n",
      "Action Performed: Left\n",
      "Model: {'A': 'Clean', 'B': 'Clean'}\n",
      "State: Good\n",
      "*****\n",
      "Stopped. Do restart? (yes/no): no\n"
     ]
    }
   ],
   "source": [
    "model = {'A':'Unknown', 'B':'Unknown'}\n",
    "world_state = 'Bad'\n",
    "action = 'Unknown'\n",
    "\n",
    "def update_state(action, percept, model):\n",
    "    location = percept[0]\n",
    "    status = percept[1]\n",
    "    model[location] = status #udate the model based on current perception\n",
    "    \n",
    "    global world_state\n",
    "    #udate the model based on action\n",
    "    if action == 'Suck':\n",
    "        model[location]='Clean'\n",
    "    # model checking to update world state\n",
    "    if model['A']=='Clean' and model['B']=='Clean': \n",
    "        world_state = 'Good'\n",
    "    else:\n",
    "        world_state = 'Bad'\n",
    "    return world_state\n",
    "        \n",
    "\n",
    "def model_based_reflex_agent(percept):\n",
    "    location = percept[0]\n",
    "    status = percept[1]\n",
    "    \n",
    "    global world_state,action,model\n",
    "    \n",
    "    if world_state == 'Good':\n",
    "        action = 'Pause'\n",
    "        return action\n",
    "    elif status == 'Dirty':\n",
    "        action = 'Suck'\n",
    "    elif location == 'A':\n",
    "        action = 'Right'\n",
    "    elif location == 'B':\n",
    "        action = 'Left'\n",
    "    world_state = update_state(action, percept, model)\n",
    "    print('Perception: '+str(percept)) \n",
    "    print('Action Performed: '+ action)    \n",
    "    print('Model: '+str(model))   \n",
    "    print('State: '+str(world_state))    \n",
    "    return action\n",
    "\n",
    "\n",
    "import random\n",
    "Location = random.choice(['A','B'])\n",
    "Condition= random.choice(['Clean','Dirty'])\n",
    "\n",
    "while True:\n",
    "    print('*****')\n",
    "    action = model_based_reflex_agent((Location,Condition))\n",
    "    if action == 'Right':\n",
    "        Location = 'B'\n",
    "        Condition = random.choice(['Clean','Dirty'])\n",
    "    elif action == 'Left':\n",
    "        Location = 'A'\n",
    "        Condition = random.choice(['Clean','Dirty'])\n",
    "    elif action == 'Suck':\n",
    "        Condition = 'Clean'\n",
    "    elif action == 'Pause':\n",
    "        cmd = input('Stopped. Do restart? (yes/no): ')\n",
    "        if(cmd == 'no' or cmd != 'yes'): break\n",
    "        Location = random.choice(['A','B'])\n",
    "        Condition = random.choice(['Clean','Dirty'])\n",
    "        model = {'A':'Unknown', 'B':'Unknown'}\n",
    "        world_state = 'Bad'\n",
    "        action = 'Unknown'    "
   ]
  },
  {
   "cell_type": "markdown",
   "metadata": {
    "id": "SduRNewjSyeg"
   },
   "source": [
    "# **Exercise 1**"
   ]
  },
  {
   "cell_type": "markdown",
   "metadata": {
    "id": "XQfOSnycSyeh"
   },
   "source": [
    "Implement diffierent types of agent implementation to do a certain task of your choice. \n",
    "1. Table Driven Agent\n",
    "2. Simple Reflex Agent\n",
    "\n",
    "<p><b>Before implementation describe the following:</b></p>\n",
    "\n",
    "1. Agent Description: The aim of the agent .....\n",
    "2. List the sensors:\n",
    "3. Sensors' values: \n",
    "3. List the actions:\n",
    "4. Agent function: perception --> action"
   ]
  },
  {
   "cell_type": "markdown",
   "metadata": {
    "id": "9s44XzAtSyei"
   },
   "source": []
  },
  {
   "cell_type": "markdown",
   "metadata": {},
   "source": [
    "# Table Driven Agent"
   ]
  },
  {
   "cell_type": "code",
   "execution_count": 2,
   "metadata": {
    "id": "uKEfWWEgSyei"
   },
   "outputs": [
    {
     "name": "stdout",
     "output_type": "stream",
     "text": [
      "Start our process or not '(start or stop)'start\n",
      "Perception Received: ('card', 'Not_Payment')\n",
      "Action Performed: Invalid\n",
      "Get Perception (yes/no): yes\n",
      "Perception Received: ('card', 'Payment')\n",
      "Action Performed: Select_card\n",
      "Get Perception (yes/no): yes\n",
      "Perception Received: ('card', 'Payment')\n",
      "Action Performed: Select_card\n",
      "Get Perception (yes/no): yes\n",
      "Perception Received: ('card', 'Not_Payment')\n",
      "Action Performed: Invalid\n",
      "Get Perception (yes/no): yes\n",
      "Perception Received: ('cash', 'Payment')\n",
      "Action Performed: Go_Bank\n",
      "Get Perception (yes/no): no\n"
     ]
    }
   ],
   "source": [
    "                            #AIUB PAYMENT SYSTEM\n",
    "      #Table Driven Agent......  \n",
    "# 1.Agent Description:The aim of the agent is to determine the  AIUB payment system. and Determine the student is valid or not.\n",
    "# 2.List the sensors: 2 -> (Payment_method, Payment_status)\n",
    "# 3.Sensors' values:(Payment_method-->{cash,card}, Payment_status-->{Payment,Not_Payment}\n",
    "# 4.List the actions:Invalid,Go_Bank,Select_card\n",
    "# 5.Agent function: perception --> action\n",
    "#                 [cash, Payment] --> Go_Bank\n",
    "#                 [cash, Not_Payment] -->Invalid\n",
    "#                 [card, Not_Payment] --> Invalid\n",
    "#                 [card, Payment] --> Select_card\n",
    "\n",
    "\n",
    "table={('cash','Payment'):'Go_Bank',\n",
    "       ('cash','Not_Payment'):'Invalid',\n",
    "       ('card','Not_Payment'):'Invalid',\n",
    "       ('card','Payment'):'Select_card'}\n",
    "\n",
    "\n",
    "def table_driven_agent(percept):\n",
    "    print('Perception Received: '+ str(percept))\n",
    "    action = lookup(percept,table) \n",
    "    return action\n",
    "\n",
    "def lookup(percept,table):\n",
    " \n",
    "    return table[percept]\n",
    "\n",
    "\n",
    "import random\n",
    "Payment_method = random.choice(['cash','card'])\n",
    "Payment_status = random.choice(['Payment','Not_Payment'])\n",
    "\n",
    "On=input(\"Start our process or not '(start or stop)'\");\n",
    "if(On=='start'):\n",
    "     while True: \n",
    "            action = table_driven_agent((Payment_method, Payment_status))\n",
    "            print('Action Performed: '+ action)\n",
    "            cmd = input('Get Perception (yes/no): ')\n",
    "            if(cmd == 'no' or cmd != 'yes'): break\n",
    "            if action == 'Go_Bank':\n",
    "                Payment_method = 'cash'\n",
    "                Payment_status = random.choice(['Payment','Not_Payment'])\n",
    "            elif action == 'Select_card':\n",
    "                Payment_method = 'card'\n",
    "                Payment_status = random.choice(['Payment','Not_Payment'])\n",
    "            else:\n",
    "                Payment_status = 'Payment'\n",
    "                Payment_method = random.choice(['cash','card'])\n",
    "else:\n",
    "    print(\"Please start first\")"
   ]
  },
  {
   "cell_type": "markdown",
   "metadata": {},
   "source": [
    "# Simple Reflex Agent"
   ]
  },
  {
   "cell_type": "code",
   "execution_count": 3,
   "metadata": {},
   "outputs": [
    {
     "name": "stdout",
     "output_type": "stream",
     "text": [
      "Start our process or not '(start or stop)'start\n",
      "Perception Received: ('card', 'Not_Payment')\n",
      "Action Performed: Invalid\n",
      "Get Perception (yes/no): yes\n",
      "Perception Received: ('card', 'Payment')\n",
      "Action Performed: Select_card\n",
      "Get Perception (yes/no): yes\n",
      "Perception Received: ('card', 'Not_Payment')\n",
      "Action Performed: Invalid\n",
      "Get Perception (yes/no): yes\n",
      "Perception Received: ('card', 'Payment')\n",
      "Action Performed: Select_card\n",
      "Get Perception (yes/no): yes\n",
      "Perception Received: ('card', 'Payment')\n",
      "Action Performed: Select_card\n",
      "Get Perception (yes/no): yes\n",
      "Perception Received: ('card', 'Not_Payment')\n",
      "Action Performed: Invalid\n",
      "Get Perception (yes/no): yes\n",
      "Perception Received: ('cash', 'Payment')\n",
      "Action Performed: Go_Bank\n",
      "Get Perception (yes/no): yes\n",
      "Perception Received: ('cash', 'Not_Payment')\n",
      "Action Performed: Invalid\n",
      "Get Perception (yes/no): no\n"
     ]
    }
   ],
   "source": [
    "def simple_reflex_agent(percept):\n",
    "    print('Perception Received: '+ str(percept))\n",
    "    Payment_method = percept[0]\n",
    "    Payment_status = percept[1]\n",
    "    if Payment_status =='Not_Payment':\n",
    "        action = 'Invalid'\n",
    "    elif Payment_method == 'cash':\n",
    "        action = 'Go_Bank'\n",
    "    elif location =='card':\n",
    "        action = 'Select_card'\n",
    "    return action\n",
    "\n",
    "import random\n",
    "Payment_method = random.choice(['cash','card'])\n",
    "Payment_status = random.choice(['Payment','Not_Payment'])\n",
    "\n",
    "on=input(\"Start our process or not '(start or stop)'\");\n",
    "if(on=='start'):\n",
    "     while True: \n",
    "            action = table_driven_agent((Payment_method, Payment_status))\n",
    "            print('Action Performed: '+ action)\n",
    "            cmd = input('Get Perception (yes/no): ')\n",
    "            if(cmd == 'no' or cmd != 'yes'): break\n",
    "            if action == 'Go_Bank':\n",
    "                Payment_method = 'cash'\n",
    "                Payment_status = random.choice(['Payment','Not_Payment'])\n",
    "            elif action == 'Select_card':\n",
    "                Payment_method = 'card'\n",
    "                Payment_status = random.choice(['Payment','Not_Payment'])\n",
    "            else:\n",
    "                Payment_status = 'Payment'\n",
    "                Payment_method = random.choice(['cash','card'])\n",
    "else:\n",
    "    print(\"Please start first\")"
   ]
  },
  {
   "cell_type": "code",
   "execution_count": null,
   "metadata": {},
   "outputs": [],
   "source": []
  }
 ],
 "metadata": {
  "colab": {
   "name": "Week 03 Agents.ipynb",
   "provenance": []
  },
  "kernelspec": {
   "display_name": "Python 3",
   "language": "python",
   "name": "python3"
  },
  "language_info": {
   "codemirror_mode": {
    "name": "ipython",
    "version": 3
   },
   "file_extension": ".py",
   "mimetype": "text/x-python",
   "name": "python",
   "nbconvert_exporter": "python",
   "pygments_lexer": "ipython3",
   "version": "3.8.8"
  }
 },
 "nbformat": 4,
 "nbformat_minor": 1
}
